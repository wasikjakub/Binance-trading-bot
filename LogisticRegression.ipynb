{
 "cells": [
  {
   "cell_type": "code",
   "execution_count": 150,
   "metadata": {},
   "outputs": [],
   "source": [
    "import yfinance as yf\n",
    "import numpy as np\n",
    "import matplotlib.pyplot as plt\n",
    "import pandas as pd\n",
    "from sklearn.linear_model import LogisticRegression\n",
    "import statsmodels.api as sm"
   ]
  },
  {
   "cell_type": "code",
   "execution_count": 151,
   "metadata": {},
   "outputs": [
    {
     "name": "stdout",
     "output_type": "stream",
     "text": [
      "[*********************100%%**********************]  1 of 1 completed\n"
     ]
    }
   ],
   "source": [
    "data = yf.download('^GSPC', start='2018-01-01')\n",
    "#data = yf.download('^GSPC', start='2001-01-03', end='2005-12-31')"
   ]
  },
  {
   "cell_type": "code",
   "execution_count": 152,
   "metadata": {},
   "outputs": [],
   "source": [
    "df = data['Adj Close'].pct_change() * 100"
   ]
  },
  {
   "cell_type": "code",
   "execution_count": 153,
   "metadata": {},
   "outputs": [],
   "source": [
    "df = df.rename(\"Today\")"
   ]
  },
  {
   "cell_type": "code",
   "execution_count": 154,
   "metadata": {},
   "outputs": [],
   "source": [
    "df = df.reset_index()"
   ]
  },
  {
   "cell_type": "code",
   "execution_count": 155,
   "metadata": {},
   "outputs": [],
   "source": [
    "for i in range(1, 6):\n",
    "    df['Lag '+str(i)] = df['Today'].shift(i)"
   ]
  },
  {
   "cell_type": "code",
   "execution_count": 156,
   "metadata": {},
   "outputs": [],
   "source": [
    "df['Volume'] = data.Volume.shift(1).values/1000_000_000\n",
    "df = df.dropna()"
   ]
  },
  {
   "cell_type": "code",
   "execution_count": 157,
   "metadata": {},
   "outputs": [],
   "source": [
    "df['Direction'] = [1 if i>0 else 0 for i in df['Today']]"
   ]
  },
  {
   "cell_type": "code",
   "execution_count": 158,
   "metadata": {},
   "outputs": [],
   "source": [
    "df = sm.add_constant(df)"
   ]
  },
  {
   "cell_type": "code",
   "execution_count": 159,
   "metadata": {},
   "outputs": [],
   "source": [
    "X = df[['const', 'Lag 1', 'Lag 2', 'Lag 3', 'Lag 4', 'Lag 5', 'Volume']]\n",
    "y = df.Direction"
   ]
  },
  {
   "cell_type": "code",
   "execution_count": 160,
   "metadata": {},
   "outputs": [
    {
     "name": "stdout",
     "output_type": "stream",
     "text": [
      "Optimization terminated successfully.\n",
      "         Current function value: 0.688356\n",
      "         Iterations 4\n"
     ]
    }
   ],
   "source": [
    "model = sm.Logit(y, X)\n",
    "result = model.fit()"
   ]
  },
  {
   "cell_type": "code",
   "execution_count": 161,
   "metadata": {},
   "outputs": [
    {
     "data": {
      "text/html": [
       "<table class=\"simpletable\">\n",
       "<caption>Logit Regression Results</caption>\n",
       "<tr>\n",
       "  <th>Dep. Variable:</th>       <td>Direction</td>    <th>  No. Observations:  </th>  <td>  1479</td> \n",
       "</tr>\n",
       "<tr>\n",
       "  <th>Model:</th>                 <td>Logit</td>      <th>  Df Residuals:      </th>  <td>  1472</td> \n",
       "</tr>\n",
       "<tr>\n",
       "  <th>Method:</th>                 <td>MLE</td>       <th>  Df Model:          </th>  <td>     6</td> \n",
       "</tr>\n",
       "<tr>\n",
       "  <th>Date:</th>            <td>Mon, 27 Nov 2023</td> <th>  Pseudo R-squ.:     </th> <td>0.003145</td>\n",
       "</tr>\n",
       "<tr>\n",
       "  <th>Time:</th>                <td>15:09:15</td>     <th>  Log-Likelihood:    </th> <td> -1018.1</td>\n",
       "</tr>\n",
       "<tr>\n",
       "  <th>converged:</th>             <td>True</td>       <th>  LL-Null:           </th> <td> -1021.3</td>\n",
       "</tr>\n",
       "<tr>\n",
       "  <th>Covariance Type:</th>     <td>nonrobust</td>    <th>  LLR p-value:       </th>  <td>0.3775</td> \n",
       "</tr>\n",
       "</table>\n",
       "<table class=\"simpletable\">\n",
       "<tr>\n",
       "     <td></td>       <th>coef</th>     <th>std err</th>      <th>z</th>      <th>P>|z|</th>  <th>[0.025</th>    <th>0.975]</th>  \n",
       "</tr>\n",
       "<tr>\n",
       "  <th>const</th>  <td>    0.4222</td> <td>    0.222</td> <td>    1.902</td> <td> 0.057</td> <td>   -0.013</td> <td>    0.857</td>\n",
       "</tr>\n",
       "<tr>\n",
       "  <th>Lag 1</th>  <td>   -0.0810</td> <td>    0.042</td> <td>   -1.950</td> <td> 0.051</td> <td>   -0.162</td> <td>    0.000</td>\n",
       "</tr>\n",
       "<tr>\n",
       "  <th>Lag 2</th>  <td>    0.0163</td> <td>    0.042</td> <td>    0.392</td> <td> 0.695</td> <td>   -0.065</td> <td>    0.098</td>\n",
       "</tr>\n",
       "<tr>\n",
       "  <th>Lag 3</th>  <td>   -0.0117</td> <td>    0.042</td> <td>   -0.281</td> <td> 0.779</td> <td>   -0.094</td> <td>    0.070</td>\n",
       "</tr>\n",
       "<tr>\n",
       "  <th>Lag 4</th>  <td>   -0.0359</td> <td>    0.041</td> <td>   -0.867</td> <td> 0.386</td> <td>   -0.117</td> <td>    0.045</td>\n",
       "</tr>\n",
       "<tr>\n",
       "  <th>Lag 5</th>  <td>   -0.0265</td> <td>    0.041</td> <td>   -0.645</td> <td> 0.519</td> <td>   -0.107</td> <td>    0.054</td>\n",
       "</tr>\n",
       "<tr>\n",
       "  <th>Volume</th> <td>   -0.0645</td> <td>    0.051</td> <td>   -1.260</td> <td> 0.208</td> <td>   -0.165</td> <td>    0.036</td>\n",
       "</tr>\n",
       "</table>"
      ],
      "text/plain": [
       "<class 'statsmodels.iolib.summary.Summary'>\n",
       "\"\"\"\n",
       "                           Logit Regression Results                           \n",
       "==============================================================================\n",
       "Dep. Variable:              Direction   No. Observations:                 1479\n",
       "Model:                          Logit   Df Residuals:                     1472\n",
       "Method:                           MLE   Df Model:                            6\n",
       "Date:                Mon, 27 Nov 2023   Pseudo R-squ.:                0.003145\n",
       "Time:                        15:09:15   Log-Likelihood:                -1018.1\n",
       "converged:                       True   LL-Null:                       -1021.3\n",
       "Covariance Type:            nonrobust   LLR p-value:                    0.3775\n",
       "==============================================================================\n",
       "                 coef    std err          z      P>|z|      [0.025      0.975]\n",
       "------------------------------------------------------------------------------\n",
       "const          0.4222      0.222      1.902      0.057      -0.013       0.857\n",
       "Lag 1         -0.0810      0.042     -1.950      0.051      -0.162       0.000\n",
       "Lag 2          0.0163      0.042      0.392      0.695      -0.065       0.098\n",
       "Lag 3         -0.0117      0.042     -0.281      0.779      -0.094       0.070\n",
       "Lag 4         -0.0359      0.041     -0.867      0.386      -0.117       0.045\n",
       "Lag 5         -0.0265      0.041     -0.645      0.519      -0.107       0.054\n",
       "Volume        -0.0645      0.051     -1.260      0.208      -0.165       0.036\n",
       "==============================================================================\n",
       "\"\"\""
      ]
     },
     "execution_count": 161,
     "metadata": {},
     "output_type": "execute_result"
    }
   ],
   "source": [
    "result.summary()"
   ]
  },
  {
   "cell_type": "code",
   "execution_count": 162,
   "metadata": {},
   "outputs": [],
   "source": [
    "prediction = result.predict(X)"
   ]
  },
  {
   "cell_type": "code",
   "execution_count": 163,
   "metadata": {},
   "outputs": [],
   "source": [
    "def confusion_matrix(act, pred): #act - actual values, pred - predicted values\n",
    "    predtrans = ['Up' if i > 0.5 else 'Down' for i in pred]\n",
    "    actuals = ['Up' if i > 0 else 'Down' for i in act]\n",
    "    confusion_matrix = pd.crosstab(pd.Series(actuals), pd.Series(predtrans), rownames=['Actual'], colnames=['Predicted'])\n",
    "    return confusion_matrix"
   ]
  },
  {
   "cell_type": "code",
   "execution_count": 164,
   "metadata": {},
   "outputs": [
    {
     "name": "stdout",
     "output_type": "stream",
     "text": [
      "Predicted  Down   Up\n",
      "Actual              \n",
      "Down         85  601\n",
      "Up           62  731\n"
     ]
    }
   ],
   "source": [
    "a = confusion_matrix(y, prediction)\n",
    "print(a)"
   ]
  },
  {
   "cell_type": "code",
   "execution_count": 165,
   "metadata": {},
   "outputs": [
    {
     "data": {
      "text/plain": [
       "0.5517241379310345"
      ]
     },
     "execution_count": 165,
     "metadata": {},
     "output_type": "execute_result"
    }
   ],
   "source": [
    "\n",
    "(a.iloc[1, 1] + a.iloc[0, 0])/len(df)"
   ]
  },
  {
   "cell_type": "code",
   "execution_count": 166,
   "metadata": {},
   "outputs": [
    {
     "data": {
      "text/plain": [
       "1479"
      ]
     },
     "execution_count": 166,
     "metadata": {},
     "output_type": "execute_result"
    }
   ],
   "source": [
    "len(df)"
   ]
  },
  {
   "cell_type": "code",
   "execution_count": null,
   "metadata": {},
   "outputs": [],
   "source": []
  },
  {
   "cell_type": "code",
   "execution_count": 167,
   "metadata": {},
   "outputs": [
    {
     "data": {
      "text/plain": [
       "2.1027721433400948"
      ]
     },
     "execution_count": 167,
     "metadata": {},
     "output_type": "execute_result"
    }
   ],
   "source": [
    "(196 + 2914)/len(df)"
   ]
  },
  {
   "cell_type": "code",
   "execution_count": 168,
   "metadata": {},
   "outputs": [],
   "source": [
    "x_train = df[df.Date.dt.year < 2022][['const', 'Lag 1', 'Lag 2', 'Lag 3', 'Lag 4', 'Lag 5', 'Volume']]\n",
    "y_train = df[df.Date.dt.year < 2022]['Direction']\n",
    "x_test = df[df.Date.dt.year == 2022][['const', 'Lag 1', 'Lag 2', 'Lag 3', 'Lag 4', 'Lag 5', 'Volume']]\n",
    "y_test = df[df.Date.dt.year == 2022]['Direction']\n"
   ]
  },
  {
   "cell_type": "code",
   "execution_count": 169,
   "metadata": {},
   "outputs": [],
   "source": [
    "model = sm.Logit(y_train, x_train)"
   ]
  },
  {
   "cell_type": "code",
   "execution_count": 170,
   "metadata": {},
   "outputs": [
    {
     "name": "stdout",
     "output_type": "stream",
     "text": [
      "Optimization terminated successfully.\n",
      "         Current function value: 0.679291\n",
      "         Iterations 5\n"
     ]
    }
   ],
   "source": [
    "result = model.fit()"
   ]
  },
  {
   "cell_type": "code",
   "execution_count": 171,
   "metadata": {},
   "outputs": [],
   "source": [
    "prediction = result.predict(x_test)"
   ]
  },
  {
   "cell_type": "code",
   "execution_count": 172,
   "metadata": {},
   "outputs": [
    {
     "data": {
      "text/html": [
       "<div>\n",
       "<style scoped>\n",
       "    .dataframe tbody tr th:only-of-type {\n",
       "        vertical-align: middle;\n",
       "    }\n",
       "\n",
       "    .dataframe tbody tr th {\n",
       "        vertical-align: top;\n",
       "    }\n",
       "\n",
       "    .dataframe thead th {\n",
       "        text-align: right;\n",
       "    }\n",
       "</style>\n",
       "<table border=\"1\" class=\"dataframe\">\n",
       "  <thead>\n",
       "    <tr style=\"text-align: right;\">\n",
       "      <th>Predicted</th>\n",
       "      <th>Down</th>\n",
       "      <th>Up</th>\n",
       "    </tr>\n",
       "    <tr>\n",
       "      <th>Actual</th>\n",
       "      <th></th>\n",
       "      <th></th>\n",
       "    </tr>\n",
       "  </thead>\n",
       "  <tbody>\n",
       "    <tr>\n",
       "      <th>Down</th>\n",
       "      <td>21</td>\n",
       "      <td>122</td>\n",
       "    </tr>\n",
       "    <tr>\n",
       "      <th>Up</th>\n",
       "      <td>14</td>\n",
       "      <td>94</td>\n",
       "    </tr>\n",
       "  </tbody>\n",
       "</table>\n",
       "</div>"
      ],
      "text/plain": [
       "Predicted  Down   Up\n",
       "Actual              \n",
       "Down         21  122\n",
       "Up           14   94"
      ]
     },
     "execution_count": 172,
     "metadata": {},
     "output_type": "execute_result"
    }
   ],
   "source": [
    "confusion_matrix(y_test, prediction)"
   ]
  },
  {
   "cell_type": "code",
   "execution_count": 173,
   "metadata": {},
   "outputs": [
    {
     "data": {
      "text/plain": [
       "0.47410358565737054"
      ]
     },
     "execution_count": 173,
     "metadata": {},
     "output_type": "execute_result"
    }
   ],
   "source": [
    "(81+38)/len(x_test)"
   ]
  },
  {
   "cell_type": "code",
   "execution_count": 174,
   "metadata": {},
   "outputs": [],
   "source": [
    "from sklearn.metrics import ConfusionMatrixDisplay, confusion_matrix \n"
   ]
  },
  {
   "cell_type": "code",
   "execution_count": 175,
   "metadata": {},
   "outputs": [],
   "source": [
    "def confusion_matrix(act, pred): #act - actual values, pred - predicted values\n",
    "    predtrans = ['Up' if i > 0.5 else 'Down' for i in pred]\n",
    "    actuals = ['Up' if i > 0 else 'Down' for i in act]\n",
    "    confusion_matrix = pd.crosstab(pd.Series(actuals), pd.Series(predtrans), rownames=['Actual'], colnames=['Predicted'])\n",
    "    return confusion_matrix"
   ]
  },
  {
   "cell_type": "code",
   "execution_count": 176,
   "metadata": {},
   "outputs": [],
   "source": [
    "import seaborn as sns"
   ]
  },
  {
   "cell_type": "code",
   "execution_count": 200,
   "metadata": {},
   "outputs": [
    {
     "name": "stdout",
     "output_type": "stream",
     "text": [
      "[*********************100%%**********************]  1 of 1 completed\n",
      "Optimization terminated successfully.\n",
      "         Current function value: 0.687180\n",
      "         Iterations 4\n",
      "                           Logit Regression Results                           \n",
      "==============================================================================\n",
      "Dep. Variable:              Direction   No. Observations:                 2151\n",
      "Model:                          Logit   Df Residuals:                     2144\n",
      "Method:                           MLE   Df Model:                            6\n",
      "Date:                Mon, 27 Nov 2023   Pseudo R-squ.:                0.008512\n",
      "Time:                        16:16:10   Log-Likelihood:                -1478.1\n",
      "converged:                       True   LL-Null:                       -1490.8\n",
      "Covariance Type:            nonrobust   LLR p-value:                 0.0002905\n",
      "==============================================================================\n",
      "                 coef    std err          z      P>|z|      [0.025      0.975]\n",
      "------------------------------------------------------------------------------\n",
      "const         -0.0928      0.068     -1.356      0.175      -0.227       0.041\n",
      "Lag 1         -0.0388      0.010     -4.048      0.000      -0.058      -0.020\n",
      "Lag 2          0.0128      0.009      1.360      0.174      -0.006       0.031\n",
      "Lag 3          0.0039      0.009      0.421      0.674      -0.014       0.022\n",
      "Lag 4         -0.0080      0.009     -0.856      0.392      -0.026       0.010\n",
      "Lag 5         -0.0057      0.009     -0.614      0.539      -0.024       0.013\n",
      "Volume         0.0099      0.004      2.278      0.023       0.001       0.018\n",
      "==============================================================================\n"
     ]
    },
    {
     "data": {
      "image/png": "[encoded data removed]",
      "text/plain": [
       "<Figure size 576x432 with 2 Axes>"
      ]
     },
     "metadata": {
      "needs_background": "light"
     },
     "output_type": "display_data"
    },
    {
     "name": "stdout",
     "output_type": "stream",
     "text": [
      "Predicted  Down   Up\n",
      "Actual              \n",
      "Down        598  465\n",
      "Up          498  590\n",
      "0.5523012552301255\n",
      "Optimization terminated successfully.\n",
      "         Current function value: 0.687169\n",
      "         Iterations 4\n",
      "Predicted  Down  Up\n",
      "Actual             \n",
      "Down        128  38\n",
      "Up          109  56\n",
      "0.5558912386706949\n",
      "Optimization terminated successfully.\n",
      "         Current function value: 0.688848\n",
      "         Iterations 4\n",
      "Predicted  Down   Up\n",
      "Actual              \n",
      "Down         60  106\n",
      "Up           48  117\n",
      "0.5347432024169184\n"
     ]
    },
    {
     "data": {
      "image/png": "[encoded data removed]",
      "text/plain": [
       "<Figure size 576x432 with 2 Axes>"
      ]
     },
     "metadata": {
      "needs_background": "light"
     },
     "output_type": "display_data"
    },
    {
     "name": "stdout",
     "output_type": "stream",
     "text": [
      "Predicted  Down   Up\n",
      "Actual              \n",
      "Down         60  106\n",
      "Up           48  117\n",
      "0.5523012552301255\n"
     ]
    }
   ],
   "source": [
    "def clean_data(symbol, start, year,  end=None):\n",
    "    data = yf.download(symbol, start, end)\n",
    "    df = data['Adj Close'].pct_change() * 100\n",
    "    df = df.rename('Today')\n",
    "    df = df.reset_index()\n",
    "    for i in range(1, 6):\n",
    "        df['Lag '+str(i)] = df['Today'].shift(i)\n",
    "    df['Volume'] = data.Volume.shift(1).values/1000_000_000\n",
    "    df = df.dropna()\n",
    "    df['Direction'] = [1 if i > 0 else 0 for i in df['Today']]\n",
    "    df = sm.add_constant(df)\n",
    "    X = df[['const', 'Lag 1', 'Lag 2', 'Lag 3', 'Lag 4', 'Lag 5', 'Volume']]\n",
    "    y = df.Direction\n",
    "    model = sm.Logit(y, X)\n",
    "    result = model.fit()\n",
    "    print(result.summary())\n",
    "    prediction = result.predict(X)\n",
    "    a = confusion_matrix(y, prediction)\n",
    "    plt.figure(figsize=(8, 6))\n",
    "    sns.heatmap(a, annot=True, fmt=\"d\", cmap=\"Blues\", cbar=True)\n",
    "    plt.title(\"Confusion Matrix\")\n",
    "    plt.show()\n",
    "    print(a)\n",
    "    print((a.iloc[1, 1] + a.iloc[0, 0])/len(df))\n",
    "\n",
    "    x_train = df[df.Date.dt.year < year][['const', 'Lag 1', 'Lag 2', 'Lag 3', 'Lag 4', 'Lag 5', 'Volume']]\n",
    "    y_train = df[df.Date.dt.year < year]['Direction']\n",
    "    x_test = df[df.Date.dt.year == year][['const', 'Lag 1', 'Lag 2', 'Lag 3', 'Lag 4', 'Lag 5', 'Volume']]\n",
    "    y_test = df[df.Date.dt.year == year]['Direction']\n",
    "    model = sm.Logit(y_train, x_train)\n",
    "    result = model.fit()\n",
    "    prediction = result.predict(x_test)\n",
    "    b = confusion_matrix(y_test, prediction)\n",
    "    print(b)\n",
    "    print((b.iloc[1, 1] + b.iloc[0, 0])/len(x_test))\n",
    "\n",
    "\n",
    "    x_train = df[df.Date.dt.year < year][['const', 'Lag 1', 'Lag 2']]\n",
    "    y_train = df[df.Date.dt.year < year]['Direction']\n",
    "    x_test = df[df.Date.dt.year == year][['const', 'Lag 1', 'Lag 2']]\n",
    "    y_test = df[df.Date.dt.year == year]['Direction']\n",
    "    model = sm.Logit(y_train, x_train)\n",
    "    result = model.fit()\n",
    "    prediction = result.predict(x_test)\n",
    "    b = confusion_matrix(y_test, prediction)\n",
    "    print(b)\n",
    "    print((b.iloc[1, 1] + b.iloc[0, 0])/len(x_test))\n",
    "    plt.figure(figsize=(8, 6))\n",
    "    sns.heatmap(b, annot=True, fmt=\"d\", cmap=\"Reds\", cbar=True)\n",
    "    plt.title(\"Confusion Matrix\")\n",
    "    plt.title(symbol)\n",
    "    plt.show()\n",
    "    print(b)\n",
    "    print((a.iloc[1, 1] + a.iloc[0, 0])/len(df))\n",
    "\n",
    "\n",
    "clean_data('ETH-USD', '2018-01-01', 2023)"
   ]
  },
  {
   "cell_type": "code",
   "execution_count": 199,
   "metadata": {},
   "outputs": [
    {
     "name": "stdout",
     "output_type": "stream",
     "text": [
      "[*********************100%%**********************]  1 of 1 completed\n",
      "Optimization terminated successfully.\n",
      "         Current function value: 0.688934\n",
      "         Iterations 4\n",
      "                           Logit Regression Results                           \n",
      "==============================================================================\n",
      "Dep. Variable:              Direction   No. Observations:                 1480\n",
      "Model:                          Logit   Df Residuals:                     1473\n",
      "Method:                           MLE   Df Model:                            6\n",
      "Date:                Mon, 27 Nov 2023   Pseudo R-squ.:                0.002791\n",
      "Time:                        16:14:28   Log-Likelihood:                -1019.6\n",
      "converged:                       True   LL-Null:                       -1022.5\n",
      "Covariance Type:            nonrobust   LLR p-value:                    0.4566\n",
      "==============================================================================\n",
      "                 coef    std err          z      P>|z|      [0.025      0.975]\n",
      "------------------------------------------------------------------------------\n",
      "const          0.1517      0.117      1.292      0.196      -0.078       0.382\n",
      "Lag 1         -0.0527      0.026     -1.998      0.046      -0.104      -0.001\n",
      "Lag 2         -0.0185      0.026     -0.702      0.483      -0.070       0.033\n",
      "Lag 3          0.0004      0.026      0.014      0.989      -0.051       0.052\n",
      "Lag 4          0.0119      0.026      0.453      0.650      -0.040       0.063\n",
      "Lag 5          0.0287      0.026      1.094      0.274      -0.023       0.080\n",
      "Volume        -0.1128      0.961     -0.117      0.907      -1.996       1.770\n",
      "==============================================================================\n"
     ]
    },
    {
     "data": {
      "image/png": "[encoded data removed]",
      "text/plain": [
       "<Figure size 576x432 with 2 Axes>"
      ]
     },
     "metadata": {
      "needs_background": "light"
     },
     "output_type": "display_data"
    },
    {
     "name": "stdout",
     "output_type": "stream",
     "text": [
      "Predicted  Down   Up\n",
      "Actual              \n",
      "Down         94  596\n",
      "Up           74  716\n",
      "0.5472972972972973\n",
      "Optimization terminated successfully.\n",
      "         Current function value: 0.688959\n",
      "         Iterations 4\n",
      "Predicted  Down   Up\n",
      "Actual              \n",
      "Down         13   86\n",
      "Up           14  114\n",
      "0.5594713656387665\n",
      "Optimization terminated successfully.\n",
      "         Current function value: 0.689901\n",
      "         Iterations 4\n",
      "Predicted  Down   Up\n",
      "Actual              \n",
      "Down          8   91\n",
      "Up            7  121\n",
      "0.5682819383259912\n"
     ]
    },
    {
     "data": {
      "image/png": "[encoded data removed]",
      "text/plain": [
       "<Figure size 576x432 with 2 Axes>"
      ]
     },
     "metadata": {
      "needs_background": "light"
     },
     "output_type": "display_data"
    },
    {
     "name": "stdout",
     "output_type": "stream",
     "text": [
      "Predicted  Down   Up\n",
      "Actual              \n",
      "Down          8   91\n",
      "Up            7  121\n",
      "0.5472972972972973\n"
     ]
    }
   ],
   "source": [
    "clean_data('AAPL' , '2018-01-01', 2023)"
   ]
  },
  {
   "cell_type": "code",
   "execution_count": 180,
   "metadata": {},
   "outputs": [
    {
     "name": "stdout",
     "output_type": "stream",
     "text": [
      "Accuracy: 0.85\n"
     ]
    }
   ],
   "source": [
    "from sklearn.linear_model import LogisticRegression\n",
    "from sklearn.model_selection import train_test_split\n",
    "from sklearn.metrics import accuracy_score\n",
    "from sklearn.preprocessing import StandardScaler\n",
    "import numpy as np\n",
    "\n",
    "# Assuming X is your feature matrix and y is the target variable\n",
    "X = np.random.rand(100, 2)\n",
    "y = (X[:, 0] + 2 * X[:, 1] + np.random.randn(100) > 0).astype(int)\n",
    "\n",
    "# Split the data into training and testing sets\n",
    "X_train, X_test, y_train, y_test = train_test_split(X, y, test_size=0.2, random_state=42)\n",
    "\n",
    "# Standardize the features\n",
    "scaler = StandardScaler()\n",
    "X_train = scaler.fit_transform(X_train)\n",
    "X_test = scaler.transform(X_test)\n",
    "\n",
    "# Create a logistic regression model\n",
    "model = LogisticRegression()\n",
    "\n",
    "# Fit the model to the training data\n",
    "model.fit(X_train, y_train)\n",
    "\n",
    "# Make predictions on the test set\n",
    "y_pred = model.predict(X_test)\n",
    "\n",
    "# Calculate accuracy\n",
    "accuracy = accuracy_score(y_test, y_pred)\n",
    "print(\"Accuracy:\", accuracy)\n"
   ]
  }
 ],
 "metadata": {
  "kernelspec": {
   "display_name": "Python 3",
   "language": "python",
   "name": "python3"
  },
  "language_info": {
   "codemirror_mode": {
    "name": "ipython",
    "version": 3
   },
   "file_extension": ".py",
   "mimetype": "text/x-python",
   "name": "python",
   "nbconvert_exporter": "python",
   "pygments_lexer": "ipython3",
   "version": "3.9.13"
  }
 },
 "nbformat": 4,
 "nbformat_minor": 2
}
